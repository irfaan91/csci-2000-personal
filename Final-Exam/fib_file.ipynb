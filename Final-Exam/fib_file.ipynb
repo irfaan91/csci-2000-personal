{
 "cells": [
  {
   "cell_type": "code",
   "execution_count": 82,
   "metadata": {
    "collapsed": false
   },
   "outputs": [
    {
     "name": "stdout",
     "output_type": "stream",
     "text": [
      "n          F_n\n",
      "0            0\n",
      "1            1\n",
      "2            1\n",
      "3            2\n",
      "4            3\n",
      "5            5\n",
      "6            8\n"
     ]
    }
   ],
   "source": [
    "#Irfaan Ali\n",
    "#100400606\n",
    "import numpy as np\n",
    "\n",
    "def fib_file(n,fname):\n",
    "#if n is negative then n = -n\n",
    "    if (n<0):\n",
    "        n = n*-1\n",
    "    data = open(fname+'_%d.txt' %n,'wt')\n",
    "    ##fname = fname + \"_\" + n\n",
    "    i = 2\n",
    "    np.fib = []\n",
    "    np.fib.append(0)\n",
    "    np.fib.append(1)\n",
    "    for i in range(2,n+1):\n",
    "        temp = np.fib[i-1] + np.fib[i-2]\n",
    "        #checking values of sequence to see if calculation is done right\n",
    "        #print(temp)\n",
    "        np.fib.append(temp)\n",
    "\n",
    "    print(\"n          F_n\")\n",
    "    data.write(\"n          F_n\\n\")\n",
    "    for j in range(len(np.fib)):\n",
    "        data.write(\"%d            %d \\n\" %(j, np.fib[j]))\n",
    "        print(\"%d            %d\" %(j, np.fib[j])) \n",
    "\n",
    "#tested with a negative input\n",
    "fib_file(-6,'fib')\n"
   ]
  },
  {
   "cell_type": "code",
   "execution_count": null,
   "metadata": {
    "collapsed": true
   },
   "outputs": [],
   "source": []
  },
  {
   "cell_type": "code",
   "execution_count": null,
   "metadata": {
    "collapsed": true
   },
   "outputs": [],
   "source": []
  }
 ],
 "metadata": {
  "kernelspec": {
   "display_name": "Python 3",
   "language": "python",
   "name": "python3"
  },
  "language_info": {
   "codemirror_mode": {
    "name": "ipython",
    "version": 3
   },
   "file_extension": ".py",
   "mimetype": "text/x-python",
   "name": "python",
   "nbconvert_exporter": "python",
   "pygments_lexer": "ipython3",
   "version": "3.4.3"
  }
 },
 "nbformat": 4,
 "nbformat_minor": 0
}
