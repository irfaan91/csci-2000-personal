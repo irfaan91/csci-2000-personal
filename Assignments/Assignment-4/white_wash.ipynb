{
 "cells": [
  {
   "cell_type": "code",
   "execution_count": 69,
   "metadata": {
    "collapsed": false
   },
   "outputs": [
    {
     "data": {
      "image/png": "[encoded data removed]",
      "text/plain": [
       "<matplotlib.figure.Figure at 0x7fa4426912e8>"
      ]
     },
     "metadata": {},
     "output_type": "display_data"
    },
    {
     "data": {
      "image/png": "[encoded data removed]",
      "text/plain": [
       "<matplotlib.figure.Figure at 0x7fa4427cac18>"
      ]
     },
     "metadata": {},
     "output_type": "display_data"
    }
   ],
   "source": [
    "##Irfaan Ali\n",
    "##100400606\n",
    "\n",
    "%matplotlib inline\n",
    "import numpy as np\n",
    "import matplotlib.pyplot as plt\n",
    "\n",
    "#Function WhiteWash. Taking one argument C \n",
    "#C - Color map of [x,3]\n",
    "def WhiteWash(C):\n",
    "    white =  np.ones_like(C)\n",
    "    result = ((C + white)/2)\n",
    "    return result\n",
    "\n",
    "#random size of color map between 1 - 3\n",
    "m = np.random.randint(1,3)\n",
    "\n",
    "#randoms variables that are < 1\n",
    "color = np.random.rand(m,3)\n",
    "whiter = WhiteWash(color)\n",
    "\n",
    "#plots of color maps\n",
    "plot = plt.imshow(color)\n",
    "plt.show(plot)\n",
    "\n",
    "whiterplot = plt.imshow(whiter)\n",
    "plt.show(whiterplot)\n"
   ]
  },
  {
   "cell_type": "code",
   "execution_count": null,
   "metadata": {
    "collapsed": true
   },
   "outputs": [],
   "source": []
  }
 ],
 "metadata": {
  "kernelspec": {
   "display_name": "Python 3",
   "language": "python",
   "name": "python3"
  },
  "language_info": {
   "codemirror_mode": {
    "name": "ipython",
    "version": 3
   },
   "file_extension": ".py",
   "mimetype": "text/x-python",
   "name": "python",
   "nbconvert_exporter": "python",
   "pygments_lexer": "ipython3",
   "version": "3.4.3"
  }
 },
 "nbformat": 4,
 "nbformat_minor": 0
}
